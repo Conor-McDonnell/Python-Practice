{
 "cells": [
  {
   "cell_type": "markdown",
   "id": "aadd3d2f",
   "metadata": {},
   "source": [
    "<h1>Line Break"
   ]
  },
  {
   "cell_type": "code",
   "execution_count": 3,
   "id": "24eeb1ea",
   "metadata": {},
   "outputs": [
    {
     "name": "stdout",
     "output_type": "stream",
     "text": [
      "Hello,\n",
      "World!\n"
     ]
    }
   ],
   "source": [
    "print('''Hello,\n",
    "World!''')"
   ]
  },
  {
   "cell_type": "code",
   "execution_count": 4,
   "id": "171adee3",
   "metadata": {},
   "outputs": [
    {
     "name": "stdout",
     "output_type": "stream",
     "text": [
      "Hello,\n",
      "World!\n"
     ]
    }
   ],
   "source": [
    "# Using join() to concatenate strings with line breaks\n",
    "lines = ['Hello,', 'World!']\n",
    "print('\\n'.join(lines))"
   ]
  },
  {
   "cell_type": "code",
   "execution_count": 5,
   "id": "9872aefd",
   "metadata": {},
   "outputs": [
    {
     "name": "stdout",
     "output_type": "stream",
     "text": [
      "Hello,\n",
      "World!\n"
     ]
    }
   ],
   "source": [
    "print(\"Hello,\\nWorld!\")"
   ]
  },
  {
   "cell_type": "code",
   "execution_count": 1,
   "id": "cff44f91",
   "metadata": {},
   "outputs": [
    {
     "name": "stdout",
     "output_type": "stream",
     "text": [
      "Python is fun for everyone\n"
     ]
    }
   ],
   "source": [
    "print(\"Python is \\\n",
    "fun for everyone\")"
   ]
  },
  {
   "cell_type": "markdown",
   "id": "14fdf97b",
   "metadata": {},
   "source": [
    "<h1>Count Occurences of Characters in a String"
   ]
  },
  {
   "cell_type": "code",
   "execution_count": 2,
   "id": "eea58e7c",
   "metadata": {},
   "outputs": [
    {
     "name": "stdout",
     "output_type": "stream",
     "text": [
      "Enter your string:lk\n",
      "{'l': 1, 'k': 1}\n",
      "None\n"
     ]
    }
   ],
   "source": [
    "def count_characters(s):\n",
    "    count = {}  # Initialize an empty dictionary to store character counts\n",
    "    for i in s:  # Iterate over each character in the input string\n",
    "        if i in count:  # If the character is already in the dictionary\n",
    "            count[i] += 1  # Increment its count by 1\n",
    "        else:  # If the character is not yet in the dictionary\n",
    "            count[i] = 1  # Add it to the dictionary with a count of 1\n",
    "    print(count)  # Print the dictionary of character counts\n",
    "\n",
    "word = input(\"Enter your string:\")  # Prompt the user to enter a string\n",
    "print(count_characters(word))  # Call the count_characters function and print its result"
   ]
  },
  {
   "cell_type": "markdown",
   "id": "c34f2c05",
   "metadata": {},
   "source": [
    "<h1> Palindrome"
   ]
  },
  {
   "cell_type": "code",
   "execution_count": 3,
   "id": "1fc7c8fd",
   "metadata": {},
   "outputs": [
    {
     "name": "stdout",
     "output_type": "stream",
     "text": [
      "Enter a sentence : l\n",
      "['l']\n"
     ]
    }
   ],
   "source": [
    "def palindrome(sentence):\n",
    "    for i in (\",.'?/><}{}}'\"):  # Iterating over a set of punctuation characters\n",
    "        sentence = sentence.replace(i, \"\")  # Removing the punctuation characters from the sentence\n",
    "\n",
    "    palindrome = []  # Creating an empty list to store palindrome words\n",
    "    words = sentence.split(' ')  # Splitting the sentence into a list of words using space as the delimiter\n",
    "    for word in words:  # Iterating over each word in the list of words\n",
    "        word = word.lower()  # Converting the word to lowercase\n",
    "        if word == word[::-1]:  # Checking if the word is a palindrome (same forwards and backwards)\n",
    "            palindrome.append(word)  # Adding the palindrome word to the palindrome list\n",
    "\n",
    "    return palindrome  # Returning the list of palindrome words\n",
    "\n",
    "sentence = input(\"Enter a sentence : \")  # Prompting the user to enter a sentence and storing it in the variable 'sentence'\n",
    "print(palindrome(sentence))  # Calling the palindrome function with the input sentence and printing the result\n"
   ]
  },
  {
   "cell_type": "code",
   "execution_count": 4,
   "id": "5d5b8b7c",
   "metadata": {},
   "outputs": [
    {
     "name": "stdout",
     "output_type": "stream",
     "text": [
      "Enter a sentence : k\n",
      "True\n"
     ]
    }
   ],
   "source": [
    "def is_palindrome(word):\n",
    "    # Remove spaces and convert to lowercase for case-insensitive comparison\n",
    "    word = word.replace(\" \", \"\").lower()\n",
    "    # Check if the word is the same as its reverse\n",
    "    return word == word[::-1]\n",
    "word = input(\"Enter a sentence : \")\n",
    "print(is_palindrome(word))\n"
   ]
  },
  {
   "cell_type": "markdown",
   "id": "519eea87",
   "metadata": {},
   "source": [
    "<h1> LCM"
   ]
  },
  {
   "cell_type": "code",
   "execution_count": 2,
   "id": "3ad88338",
   "metadata": {},
   "outputs": [
    {
     "name": "stdout",
     "output_type": "stream",
     "text": [
      "The LCM of [4, 6, 8] is 24.\n"
     ]
    }
   ],
   "source": [
    "def lcm(numbers):\n",
    "    def gcd(a, b):\n",
    "        while b:  # Using the Euclidean algorithm to calculate the greatest common divisor (GCD) of two numbers\n",
    "            a, b = b, a % b\n",
    "        return a  # Returning the GCD of the two numbers\n",
    "\n",
    "    result = 1  # Initializing the result variable as 1\n",
    "    for num in numbers:  # Iterating over each number in the input list 'numbers'\n",
    "        result = result * num // gcd(result, num)  # Calculating the least common multiple (LCM) using the formula: LCM(a, b) = (a * b) / GCD(a, b)\n",
    "    return result  # Returning the calculated LCM\n",
    "\n",
    "# Example usage\n",
    "nums = [4, 6, 8]  # Creating a list of numbers\n",
    "result = lcm(nums)  # Calling the lcm function with the list of numbers and storing the result in the 'result' variable\n",
    "print(f\"The LCM of {nums} is {result}.\")  # Printing the original numbers and the calculated LCM\n"
   ]
  },
  {
   "cell_type": "markdown",
   "id": "93a0eaf6",
   "metadata": {},
   "source": [
    "<h1> Treemap"
   ]
  },
  {
   "cell_type": "code",
   "execution_count": 9,
   "id": "77b798db",
   "metadata": {},
   "outputs": [
    {
     "name": "stdout",
     "output_type": "stream",
     "text": [
      "Defaulting to user installation because normal site-packages is not writeable\n",
      "Requirement already satisfied: squarify in c:\\users\\mcdonnellc1\\appdata\\roaming\\python\\python310\\site-packages (0.4.3)\n",
      "Note: you may need to restart the kernel to use updated packages.\n"
     ]
    }
   ],
   "source": [
    "pip install squarify"
   ]
  },
  {
   "cell_type": "code",
   "execution_count": 10,
   "id": "89b228c2",
   "metadata": {},
   "outputs": [
    {
     "data": {
      "image/png": "[encoded data removed]",
      "text/plain": [
       "<Figure size 640x480 with 1 Axes>"
      ]
     },
     "metadata": {},
     "output_type": "display_data"
    }
   ],
   "source": [
    "import matplotlib.pyplot as plt\n",
    "import squarify\n",
    "\n",
    "# Sample data for the treemap\n",
    "sizes = [10, 20, 30, 40]\n",
    "\n",
    "# Label for each item in the treemap\n",
    "labels = ['Item 1', 'Item 2', 'Item 3', 'Item 4']\n",
    "\n",
    "# Generate treemap coordinates\n",
    "squarify.plot(sizes=sizes, label=labels, alpha=0.7)\n",
    "\n",
    "# Add labels\n",
    "plt.title(\"Treemap Example\")\n",
    "plt.axis('off')\n",
    "\n",
    "# Display the treemap\n",
    "plt.show()"
   ]
  },
  {
   "cell_type": "markdown",
   "id": "e5934443",
   "metadata": {},
   "source": [
    "<h1>Fahrenheit to Celsius Converter"
   ]
  },
  {
   "cell_type": "code",
   "execution_count": 13,
   "id": "29658dea",
   "metadata": {},
   "outputs": [
    {
     "name": "stdout",
     "output_type": "stream",
     "text": [
      "Temperature in Celsius: -295.55555555555554\n"
     ]
    }
   ],
   "source": [
    "def fahrenheit_to_celsius(fahrenheit):\n",
    "    celsius = (fahrenheit - 32) * 5 / 9  #Formula for celsius conversion\n",
    "    return celsius\n",
    "\n",
    "temperature_fahrenheit = -500\n",
    "temperature_celsius = fahrenheit_to_celsius(temperature_fahrenheit)\n",
    "print(\"Temperature in Celsius:\", temperature_celsius)"
   ]
  },
  {
   "cell_type": "markdown",
   "id": "b13bb9b8",
   "metadata": {},
   "source": [
    "<h1> BMI Calculator"
   ]
  },
  {
   "cell_type": "code",
   "execution_count": 16,
   "id": "e7662518",
   "metadata": {},
   "outputs": [
    {
     "name": "stdout",
     "output_type": "stream",
     "text": [
      "Enter your weight in kilograms (kg): 76\n",
      "Enter your height in meters (m): 1.7\n",
      "BMI: 26.30\n",
      "Category: Overweight\n"
     ]
    }
   ],
   "source": [
    "def calculate_bmi(weight, height):\n",
    "    \"\"\"\n",
    "    Calculate the BMI (Body Mass Index) using weight in kilograms (kg)\n",
    "    and height in meters (m).\n",
    "    \"\"\"\n",
    "    bmi = weight / (height ** 2)\n",
    "    return bmi\n",
    "\n",
    "\n",
    "def interpret_bmi(bmi):\n",
    "    \"\"\"\n",
    "    Interpret the BMI value and provide a corresponding category.\n",
    "    \"\"\"\n",
    "    if bmi < 18.5:\n",
    "        return \"Underweight\"\n",
    "    elif 18.5 <= bmi < 25:\n",
    "        return \"Normal weight\"\n",
    "    elif 25 <= bmi < 30:\n",
    "        return \"Overweight\"\n",
    "    else:\n",
    "        return \"Obese\"\n",
    "\n",
    "\n",
    "def main():\n",
    "    weight = float(input(\"Enter your weight in kilograms (kg): \"))\n",
    "    height = float(input(\"Enter your height in meters (m): \"))\n",
    "\n",
    "    bmi = calculate_bmi(weight, height)\n",
    "    category = interpret_bmi(bmi)\n",
    "\n",
    "    print(\"BMI: {:.2f}\".format(bmi))\n",
    "    print(\"Category: {}\".format(category))\n",
    "\n",
    "\n",
    "if __name__ == \"__main__\":\n",
    "    main()"
   ]
  },
  {
   "cell_type": "markdown",
   "id": "4569cb51",
   "metadata": {},
   "source": [
    "<h1> Chessboard Function"
   ]
  },
  {
   "cell_type": "code",
   "execution_count": 2,
   "id": "e452b54a",
   "metadata": {},
   "outputs": [
    {
     "name": "stdout",
     "output_type": "stream",
     "text": [
      "■ □ ■ □ ■ □ ■ □\n",
      "□ ■ □ ■ □ ■ □ ■\n",
      "■ □ ■ □ ■ □ ■ □\n",
      "□ ■ □ ■ □ ■ □ ■\n",
      "■ □ ■ □ ■ □ ■ □\n",
      "□ ■ □ ■ □ ■ □ ■\n",
      "■ □ ■ □ ■ □ ■ □\n",
      "□ ■ □ ■ □ ■ □ ■\n"
     ]
    }
   ],
   "source": [
    "def create_chessboard():\n",
    "    # Create an empty chessboard with 8 rows and 8 columns\n",
    "    board = [['' for _ in range(8)] for _ in range(8)]\n",
    "    \n",
    "    for i in range(8):\n",
    "        for j in range(8):\n",
    "            if (i + j) % 2 == 0:# Fill the board with '■' if the sum of row index and column index is even\n",
    "                board[i][j] = '■'\n",
    "            # Fill the board with '□' if the sum of row index and column index is odd\n",
    "            else:\n",
    "                board[i][j] = '□'\n",
    "    return board\n",
    "\n",
    "def print_chessboard(board):\n",
    "    # Iterate through each row in the board\n",
    "    for row in board:\n",
    "        # Join the elements of the row with a space and print the row\n",
    "        print(' '.join(row))\n",
    "\n",
    "\n",
    "# Create a chessboard\n",
    "chessboard = create_chessboard()\n",
    "# Print the chessboard\n",
    "print_chessboard(chessboard)\n"
   ]
  },
  {
   "cell_type": "markdown",
   "id": "ddfaf5b0",
   "metadata": {},
   "source": [
    "<h1> Language Detector"
   ]
  },
  {
   "cell_type": "code",
   "execution_count": 19,
   "id": "3ccdabe7",
   "metadata": {},
   "outputs": [
    {
     "name": "stdout",
     "output_type": "stream",
     "text": [
      "Defaulting to user installation because normal site-packages is not writeable\n",
      "Collecting langdetect\n",
      "  Downloading langdetect-1.0.9.tar.gz (981 kB)\n",
      "     ------------------------------------- 981.5/981.5 kB 15.4 MB/s eta 0:00:00\n",
      "  Preparing metadata (setup.py): started\n",
      "  Preparing metadata (setup.py): finished with status 'done'\n",
      "Requirement already satisfied: six in c:\\programdata\\anaconda3\\lib\\site-packages (from langdetect) (1.16.0)\n",
      "Building wheels for collected packages: langdetect\n",
      "  Building wheel for langdetect (setup.py): started\n",
      "  Building wheel for langdetect (setup.py): finished with status 'done'\n",
      "  Created wheel for langdetect: filename=langdetect-1.0.9-py3-none-any.whl size=993253 sha256=58c5f5b6df985dd605e8b301b90c5b2a90f3829a360f21a2408264e5d7e679a6\n",
      "  Stored in directory: c:\\users\\mcdonnellc1\\appdata\\local\\pip\\cache\\wheels\\c4\\16\\af\\1889804d8b7c0c041cadee8e29673a938a332acbf2865c70a1\n",
      "Successfully built langdetect\n",
      "Installing collected packages: langdetect\n",
      "Successfully installed langdetect-1.0.9\n",
      "Note: you may need to restart the kernel to use updated packages.\n"
     ]
    }
   ],
   "source": [
    "pip install langdetect"
   ]
  },
  {
   "cell_type": "code",
   "execution_count": 1,
   "id": "ff83d33d",
   "metadata": {},
   "outputs": [
    {
     "name": "stdout",
     "output_type": "stream",
     "text": [
      "The detected language is: en\n"
     ]
    }
   ],
   "source": [
    "from langdetect import detect  # Importing the detect function from the langdetect library\n",
    "\n",
    "def detect_language(text):\n",
    "    try:\n",
    "        lang = detect(text)  # Detecting the language of the given text using the detect function\n",
    "        return lang\n",
    "    except:\n",
    "        return \"Unknown\"  # Returning \"Unknown\" if an error occurs during language detection\n",
    "\n",
    "# Example usage\n",
    "text = \"Hello, how are you?\"\n",
    "\n",
    "language = detect_language(text)  # Calling the detect_language function with the provided text\n",
    "print(f\"The detected language is: {language}\")  # Printing the detected language\n"
   ]
  },
  {
   "cell_type": "markdown",
   "id": "b634e630",
   "metadata": {},
   "source": [
    "<h1> Password Authentication"
   ]
  },
  {
   "cell_type": "code",
   "execution_count": 1,
   "id": "e1e09809",
   "metadata": {},
   "outputs": [
    {
     "name": "stdout",
     "output_type": "stream",
     "text": [
      "Enter your username: bob\n",
      "Enter your password: letmein\n",
      "Authentication successful!\n"
     ]
    }
   ],
   "source": [
    "# User database (username: password)\n",
    "user_db = {\n",
    "    'john': 'password123',  # Example user: john, password: password123\n",
    "    'alice': 'qwerty',  # Example user: alice, password: qwerty\n",
    "    'bob': 'letmein'  # Example user: bob, password: letmein\n",
    "}\n",
    "\n",
    "def authenticate(username, password):\n",
    "    if username in user_db and user_db[username] == password:  # Checking if username exists in the database and if the password matches\n",
    "        return True\n",
    "    else:\n",
    "        return False\n",
    "\n",
    "# Example usage\n",
    "username = input(\"Enter your username: \")  # Prompting the user to enter their username\n",
    "password = input(\"Enter your password: \")  # Prompting the user to enter their password\n",
    "\n",
    "if authenticate(username, password):  # Calling the authenticate function with the provided username and password\n",
    "    print(\"Authentication successful!\")  # Printing a success message if authentication is successful\n",
    "else:\n",
    "    print(\"Authentication failed.\")  # Printing a failure message if authentication fails\n"
   ]
  },
  {
   "cell_type": "code",
   "execution_count": null,
   "id": "864fc64f",
   "metadata": {},
   "outputs": [],
   "source": []
  }
 ],
 "metadata": {
  "kernelspec": {
   "display_name": "Python 3 (ipykernel)",
   "language": "python",
   "name": "python3"
  },
  "language_info": {
   "codemirror_mode": {
    "name": "ipython",
    "version": 3
   },
   "file_extension": ".py",
   "mimetype": "text/x-python",
   "name": "python",
   "nbconvert_exporter": "python",
   "pygments_lexer": "ipython3",
   "version": "3.10.9"
  }
 },
 "nbformat": 4,
 "nbformat_minor": 5
}
